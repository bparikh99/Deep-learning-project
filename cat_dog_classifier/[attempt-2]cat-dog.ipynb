{
 "cells": [
  {
   "cell_type": "code",
   "execution_count": 1,
   "metadata": {},
   "outputs": [
    {
     "name": "stderr",
     "output_type": "stream",
     "text": [
      "Using TensorFlow backend.\n"
     ]
    }
   ],
   "source": [
    "import keras\n"
   ]
  },
  {
   "cell_type": "code",
   "execution_count": 2,
   "metadata": {},
   "outputs": [],
   "source": [
    "from keras.models import Sequential\n",
    "from keras.layers import Convolution2D\n",
    "from keras.layers import MaxPooling2D\n",
    "from keras.layers import Flatten\n",
    "from keras.layers import Dense\n",
    "from keras.layers import Dropout\n",
    "import numpy as np\n",
    "from keras.preprocessing import image\n",
    "from keras.layers import BatchNormalization"
   ]
  },
  {
   "cell_type": "code",
   "execution_count": 3,
   "metadata": {},
   "outputs": [],
   "source": [
    "from keras import backend as K"
   ]
  },
  {
   "cell_type": "code",
   "execution_count": 8,
   "metadata": {},
   "outputs": [],
   "source": [
    "train_data=os.getcwd()+'\\\\training_set'\n",
    "test_data=os.getcwd()+'\\\\test_set'\n",
    "img_width,img_height=128,128\n",
    "train_data_dir=train_data\n",
    "test_data_dir=test_data\n",
    "epochs=10\n",
    "# nb_train_samples=8000\n",
    "# nb_validation_sample=2000\n",
    "batch_size=32"
   ]
  },
  {
   "cell_type": "code",
   "execution_count": 7,
   "metadata": {},
   "outputs": [],
   "source": [
    "import os"
   ]
  },
  {
   "cell_type": "code",
   "execution_count": null,
   "metadata": {},
   "outputs": [],
   "source": [
    "train_data"
   ]
  },
  {
   "cell_type": "code",
   "execution_count": 9,
   "metadata": {},
   "outputs": [],
   "source": [
    "if K.image_data_format()=='channels_first':\n",
    "    input_shape=(3,img_width,img_height)\n",
    "else:\n",
    "    input_shape=(img_width,img_height,3)"
   ]
  },
  {
   "cell_type": "code",
   "execution_count": 10,
   "metadata": {},
   "outputs": [],
   "source": [
    "from keras.preprocessing.image import ImageDataGenerator"
   ]
  },
  {
   "cell_type": "code",
   "execution_count": 11,
   "metadata": {},
   "outputs": [],
   "source": [
    "train_datagen = ImageDataGenerator(\n",
    "        rescale=1./255,\n",
    "        shear_range=0.2,\n",
    "        zoom_range=0.2,\n",
    "        horizontal_flip=True)\n",
    "test_datagen = ImageDataGenerator(rescale=1./255)"
   ]
  },
  {
   "cell_type": "code",
   "execution_count": 12,
   "metadata": {},
   "outputs": [
    {
     "name": "stdout",
     "output_type": "stream",
     "text": [
      "Found 8000 images belonging to 2 classes.\n",
      "Found 2000 images belonging to 2 classes.\n"
     ]
    }
   ],
   "source": [
    "train_generator = train_datagen.flow_from_directory(train_data_dir,\n",
    "                                                    target_size=(img_width, img_height),\n",
    "                                                    batch_size=batch_size,\n",
    "                                                    class_mode='binary')\n",
    "\n",
    "\n",
    "test_generator = test_datagen.flow_from_directory(test_data_dir,\n",
    "                                                  target_size=(img_width, img_height),\n",
    "                                                  batch_size=batch_size,\n",
    "                                                  class_mode='binary')"
   ]
  },
  {
   "cell_type": "code",
   "execution_count": 13,
   "metadata": {},
   "outputs": [],
   "source": [
    "classifier = Sequential()\n",
    "classifier.add(Convolution2D(32 ,kernel_size=(3,3), input_shape=input_shape,activation=\"relu\"))\n",
    "classifier.add(BatchNormalization())\n",
    "classifier.add(MaxPooling2D(pool_size=(2,2)))\n",
    "classifier.add(Dropout(0.25))\n",
    "\n",
    "\n",
    "classifier.add(Convolution2D(64 ,kernel_size=(3,3),activation=\"relu\"))\n",
    "classifier.add(BatchNormalization())\n",
    "classifier.add(MaxPooling2D(pool_size=(2,2)))\n",
    "classifier.add(Dropout(0.25))\n",
    "\n",
    "\n",
    "classifier.add(Convolution2D(128 ,kernel_size=(3,3),activation=\"relu\"))\n",
    "classifier.add(BatchNormalization())\n",
    "classifier.add(MaxPooling2D(pool_size=(2,2)))\n",
    "classifier.add(Dropout(0.25))\n",
    "\n",
    "\n",
    "classifier.add(Flatten())\n",
    "classifier.add(Dense(256,activation=\"relu\"))\n",
    "classifier.add(Dropout(0.5)) \n",
    "classifier.add(Dense(1, activation='sigmoid'))\n"
   ]
  },
  {
   "cell_type": "code",
   "execution_count": 14,
   "metadata": {},
   "outputs": [
    {
     "name": "stdout",
     "output_type": "stream",
     "text": [
      "Model: \"sequential_1\"\n",
      "_________________________________________________________________\n",
      "Layer (type)                 Output Shape              Param #   \n",
      "=================================================================\n",
      "conv2d_1 (Conv2D)            (None, 126, 126, 32)      896       \n",
      "_________________________________________________________________\n",
      "batch_normalization_1 (Batch (None, 126, 126, 32)      128       \n",
      "_________________________________________________________________\n",
      "max_pooling2d_1 (MaxPooling2 (None, 63, 63, 32)        0         \n",
      "_________________________________________________________________\n",
      "dropout_1 (Dropout)          (None, 63, 63, 32)        0         \n",
      "_________________________________________________________________\n",
      "conv2d_2 (Conv2D)            (None, 61, 61, 64)        18496     \n",
      "_________________________________________________________________\n",
      "batch_normalization_2 (Batch (None, 61, 61, 64)        256       \n",
      "_________________________________________________________________\n",
      "max_pooling2d_2 (MaxPooling2 (None, 30, 30, 64)        0         \n",
      "_________________________________________________________________\n",
      "dropout_2 (Dropout)          (None, 30, 30, 64)        0         \n",
      "_________________________________________________________________\n",
      "conv2d_3 (Conv2D)            (None, 28, 28, 128)       73856     \n",
      "_________________________________________________________________\n",
      "batch_normalization_3 (Batch (None, 28, 28, 128)       512       \n",
      "_________________________________________________________________\n",
      "max_pooling2d_3 (MaxPooling2 (None, 14, 14, 128)       0         \n",
      "_________________________________________________________________\n",
      "dropout_3 (Dropout)          (None, 14, 14, 128)       0         \n",
      "_________________________________________________________________\n",
      "flatten_1 (Flatten)          (None, 25088)             0         \n",
      "_________________________________________________________________\n",
      "dense_1 (Dense)              (None, 256)               6422784   \n",
      "_________________________________________________________________\n",
      "dropout_4 (Dropout)          (None, 256)               0         \n",
      "_________________________________________________________________\n",
      "dense_2 (Dense)              (None, 1)                 257       \n",
      "=================================================================\n",
      "Total params: 6,517,185\n",
      "Trainable params: 6,516,737\n",
      "Non-trainable params: 448\n",
      "_________________________________________________________________\n"
     ]
    }
   ],
   "source": [
    "classifier.summary()"
   ]
  },
  {
   "cell_type": "code",
   "execution_count": 15,
   "metadata": {},
   "outputs": [],
   "source": [
    "classifier.compile(optimizer=\"adam\",loss=\"binary_crossentropy\",metrics=['accuracy'])"
   ]
  },
  {
   "cell_type": "code",
   "execution_count": 16,
   "metadata": {},
   "outputs": [
    {
     "name": "stdout",
     "output_type": "stream",
     "text": [
      "Epoch 1/10\n",
      "8000/8000 [==============================] - 2211s 276ms/step - loss: 0.4551 - accuracy: 0.7937 - val_loss: 0.3665 - val_accuracy: 0.8586\n",
      "Epoch 2/10\n",
      "8000/8000 [==============================] - 1281s 160ms/step - loss: 0.2353 - accuracy: 0.9019 - val_loss: 1.2479 - val_accuracy: 0.8941\n",
      "Epoch 3/10\n",
      "8000/8000 [==============================] - 1271s 159ms/step - loss: 0.1709 - accuracy: 0.9328 - val_loss: 0.6839 - val_accuracy: 0.8846\n",
      "Epoch 4/10\n",
      "8000/8000 [==============================] - 1287s 161ms/step - loss: 0.1379 - accuracy: 0.9475 - val_loss: 0.4149 - val_accuracy: 0.8980\n",
      "Epoch 5/10\n",
      "8000/8000 [==============================] - 2779s 347ms/step - loss: 0.1183 - accuracy: 0.9558 - val_loss: 0.2967 - val_accuracy: 0.8992\n",
      "Epoch 6/10\n",
      "8000/8000 [==============================] - 1414s 177ms/step - loss: 0.1062 - accuracy: 0.9611 - val_loss: 0.1901 - val_accuracy: 0.8993\n",
      "Epoch 7/10\n",
      "8000/8000 [==============================] - 1313s 164ms/step - loss: 0.0980 - accuracy: 0.9647 - val_loss: 0.9854 - val_accuracy: 0.8991\n",
      "Epoch 8/10\n",
      "8000/8000 [==============================] - 1302s 163ms/step - loss: 0.0898 - accuracy: 0.9684 - val_loss: 0.1422 - val_accuracy: 0.9095\n",
      "Epoch 9/10\n",
      "8000/8000 [==============================] - 1468s 184ms/step - loss: 0.0855 - accuracy: 0.9702 - val_loss: 0.1501 - val_accuracy: 0.9045\n",
      "Epoch 10/10\n",
      "8000/8000 [==============================] - 2297s 287ms/step - loss: 0.0816 - accuracy: 0.9717 - val_loss: 0.3162 - val_accuracy: 0.9009\n"
     ]
    }
   ],
   "source": [
    "from IPython.display import display \n",
    "from PIL import Image\n",
    "model=classifier.fit_generator(\n",
    "    train_generator, \n",
    "    steps_per_epoch=8000,\n",
    "    epochs=epochs,  \n",
    "    validation_data=test_generator,\n",
    "    validation_steps=2000\n",
    ")"
   ]
  },
  {
   "cell_type": "code",
   "execution_count": 17,
   "metadata": {},
   "outputs": [],
   "source": [
    "import os\n",
    "os.mkdir('models')\n",
    "classifier.save('models\\model-cat-dog.h5')"
   ]
  },
  {
   "cell_type": "code",
   "execution_count": 27,
   "metadata": {},
   "outputs": [],
   "source": [
    "classifier.save_weights('models\\cat-dog-weigths.h5')"
   ]
  },
  {
   "cell_type": "code",
   "execution_count": 20,
   "metadata": {},
   "outputs": [
    {
     "data": {
      "text/plain": [
       "{'val_loss': [0.36654114723205566,\n",
       "  1.2478923797607422,\n",
       "  0.6839188933372498,\n",
       "  0.41494473814964294,\n",
       "  0.29672425985336304,\n",
       "  0.19014474749565125,\n",
       "  0.9853611588478088,\n",
       "  0.1421596258878708,\n",
       "  0.15010273456573486,\n",
       "  0.316180557012558],\n",
       " 'val_accuracy': [0.8585600852966309,\n",
       "  0.8941059708595276,\n",
       "  0.8845923542976379,\n",
       "  0.8980064392089844,\n",
       "  0.8991620540618896,\n",
       "  0.8992723226547241,\n",
       "  0.8990833163261414,\n",
       "  0.9094859957695007,\n",
       "  0.904517412185669,\n",
       "  0.9008631706237793],\n",
       " 'loss': [0.4551265148939565,\n",
       "  0.23528030342562123,\n",
       "  0.17087969860865268,\n",
       "  0.1379377619723382,\n",
       "  0.11831397981707414,\n",
       "  0.10616937708349723,\n",
       "  0.09800902034908904,\n",
       "  0.08979132126370495,\n",
       "  0.0855429207332636,\n",
       "  0.0815986183980076],\n",
       " 'accuracy': [0.79366404,\n",
       "  0.901918,\n",
       "  0.9327734,\n",
       "  0.94752735,\n",
       "  0.9557812,\n",
       "  0.9610664,\n",
       "  0.96473044,\n",
       "  0.968375,\n",
       "  0.9702461,\n",
       "  0.9717422]}"
      ]
     },
     "execution_count": 20,
     "metadata": {},
     "output_type": "execute_result"
    }
   ],
   "source": [
    "model.history"
   ]
  },
  {
   "cell_type": "code",
   "execution_count": 23,
   "metadata": {},
   "outputs": [],
   "source": [
    "import matplotlib.pyplot as plt\n",
    "%matplotlib inline"
   ]
  },
  {
   "cell_type": "code",
   "execution_count": 35,
   "metadata": {},
   "outputs": [
    {
     "data": {
      "text/plain": [
       "Text(0, 0.5, 'Loss---------------Accuracy')"
      ]
     },
     "execution_count": 35,
     "metadata": {},
     "output_type": "execute_result"
    },
    {
     "data": {
      "image/png": "[encoded data removed]",
      "text/plain": [
       "<Figure size 432x288 with 1 Axes>"
      ]
     },
     "metadata": {
      "needs_background": "light"
     },
     "output_type": "display_data"
    }
   ],
   "source": [
    "plt.plot(model.history['loss'])\n",
    "plt.plot(model.history['accuracy'])\n",
    "plt.legend(['loss','accuracy'],loc='upper left')\n",
    "plt.title(\"Accuray Over time with Loss\")\n",
    "plt.xlabel(\"Ephocs\")\n",
    "plt.ylabel(\"Loss---------------Accuracy\")"
   ]
  },
  {
   "cell_type": "code",
   "execution_count": 36,
   "metadata": {},
   "outputs": [
    {
     "data": {
      "text/plain": [
       "Text(0, 0.5, 'validation_loss---------------Accuracy')"
      ]
     },
     "execution_count": 36,
     "metadata": {},
     "output_type": "execute_result"
    },
    {
     "data": {
      "image/png": "[encoded data removed]",
      "text/plain": [
       "<Figure size 432x288 with 1 Axes>"
      ]
     },
     "metadata": {
      "needs_background": "light"
     },
     "output_type": "display_data"
    }
   ],
   "source": [
    "plt.plot(model.history['val_loss'])\n",
    "plt.plot(model.history['val_accuracy'])\n",
    "plt.legend(['val_loss','val_accuracy'],loc='upper left')\n",
    "plt.title(\"Accuray Over time with Loss For validation\")\n",
    "plt.xlabel(\"Ephocs\")\n",
    "plt.ylabel(\"validation_loss---------------Accuracy\")"
   ]
  },
  {
   "cell_type": "markdown",
   "metadata": {},
   "source": [
    "### Lets Predict Image"
   ]
  },
  {
   "cell_type": "code",
   "execution_count": 55,
   "metadata": {},
   "outputs": [],
   "source": [
    "img_pred=image.load_img(test_data+'/dogs/dog.4007.jpg',target_size=(128,128))\n",
    "img_pred=image.img_to_array(img_pred)\n",
    "img_pred=np.expand_dims(img_pred,axis=0)"
   ]
  },
  {
   "cell_type": "code",
   "execution_count": 56,
   "metadata": {},
   "outputs": [
    {
     "data": {
      "text/plain": [
       "array([[[[ 95.,  22.,  13.],\n",
       "         [ 95.,  20.,  14.],\n",
       "         [ 95.,  16.,  12.],\n",
       "         ...,\n",
       "         [132., 135., 106.],\n",
       "         [124., 124.,  96.],\n",
       "         [107., 107.,  79.]],\n",
       "\n",
       "        [[ 86.,  18.,   9.],\n",
       "         [ 86.,  13.,   6.],\n",
       "         [ 93.,  14.,   9.],\n",
       "         ...,\n",
       "         [109.,  98.,  70.],\n",
       "         [122., 113.,  84.],\n",
       "         [111., 104.,  75.]],\n",
       "\n",
       "        [[ 96.,  33.,  26.],\n",
       "         [ 91.,  24.,  16.],\n",
       "         [103.,  26.,  18.],\n",
       "         ...,\n",
       "         [144., 125.,  95.],\n",
       "         [120., 105.,  74.],\n",
       "         [101.,  90.,  58.]],\n",
       "\n",
       "        ...,\n",
       "\n",
       "        [[155., 150., 147.],\n",
       "         [150., 145., 142.],\n",
       "         [149., 144., 141.],\n",
       "         ...,\n",
       "         [190., 189., 187.],\n",
       "         [184., 183., 181.],\n",
       "         [181., 180., 178.]],\n",
       "\n",
       "        [[152., 147., 144.],\n",
       "         [144., 139., 136.],\n",
       "         [157., 152., 149.],\n",
       "         ...,\n",
       "         [187., 186., 184.],\n",
       "         [184., 183., 181.],\n",
       "         [184., 183., 181.]],\n",
       "\n",
       "        [[152., 147., 144.],\n",
       "         [156., 151., 148.],\n",
       "         [148., 143., 140.],\n",
       "         ...,\n",
       "         [183., 182., 180.],\n",
       "         [184., 183., 181.],\n",
       "         [184., 183., 181.]]]], dtype=float32)"
      ]
     },
     "execution_count": 56,
     "metadata": {},
     "output_type": "execute_result"
    }
   ],
   "source": [
    "img_pred"
   ]
  },
  {
   "cell_type": "code",
   "execution_count": 57,
   "metadata": {},
   "outputs": [
    {
     "name": "stdout",
     "output_type": "stream",
     "text": [
      "dog\n"
     ]
    }
   ],
   "source": [
    "result=classifier.predict(img_pred)\n",
    "if(result[0][0]==1):\n",
    "    prediction=\"dog\"\n",
    "else:\n",
    "    prediction=\"cat\"\n",
    "print(prediction)"
   ]
  }
 ],
 "metadata": {
  "kernelspec": {
   "display_name": "Python [conda env:tf_gpu]",
   "language": "python",
   "name": "conda-env-tf_gpu-py"
  },
  "language_info": {
   "codemirror_mode": {
    "name": "ipython",
    "version": 3
   },
   "file_extension": ".py",
   "mimetype": "text/x-python",
   "name": "python",
   "nbconvert_exporter": "python",
   "pygments_lexer": "ipython3",
   "version": "3.7.7"
  }
 },
 "nbformat": 4,
 "nbformat_minor": 4
}
